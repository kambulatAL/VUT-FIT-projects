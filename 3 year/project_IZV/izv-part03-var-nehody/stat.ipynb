{
 "cells": [
  {
   "cell_type": "code",
   "execution_count": 1,
   "id": "f4450a64-a5df-48ac-b9db-110d871202f6",
   "metadata": {},
   "outputs": [],
   "source": [
    "import pandas as pd\n",
    "from scipy import stats"
   ]
  },
  {
   "cell_type": "markdown",
   "id": "b0704a0f-3c6b-48f0-bc72-5e3b2af6c6f3",
   "metadata": {},
   "source": [
    "### Hypothesis 1: \n",
    "\"***Na silnicích první třídy se při nehodách umíralo se stejnou pravděpodobností jako na silnicích třetí třídy.***\"\n",
    "\n",
    "To begin with, we need to read the dataframe from the file \"accidents.pkl.gz\" and save only necessary columns: road class('p36') and number of fatalities('p13a').\n",
    "\n",
    "Also according to the hypothesis we are only interested in roads of type 1 and type 3."
   ]
  },
  {
   "cell_type": "code",
   "execution_count": 2,
   "id": "4043c91d-983e-472b-a35d-52312145b3f1",
   "metadata": {},
   "outputs": [],
   "source": [
    "df = pd.read_pickle(\"accidents.pkl.gz\")"
   ]
  },
  {
   "cell_type": "code",
   "execution_count": 3,
   "id": "3ddebe72-dd28-4069-a64f-cb0e6fc6a7b8",
   "metadata": {},
   "outputs": [],
   "source": [
    "df_hyp1 = df[['p36','p13a']].copy()\n",
    "df_hyp1 = df_hyp1.query('p36 in [1,3]')"
   ]
  },
  {
   "cell_type": "markdown",
   "id": "d35277d0-a5c0-4ab5-a8c6-ce73da4c994a",
   "metadata": {},
   "source": [
    "We also need to create a new column: \"dead\", that will contain boolean information(True or False) about the result of an road accident (if someone died or not)."
   ]
  },
  {
   "cell_type": "code",
   "execution_count": 4,
   "id": "2bdb324d-1622-44d8-85d8-98c166a19d7f",
   "metadata": {},
   "outputs": [],
   "source": [
    "df_hyp1['dead'] = (df_hyp1['p13a'] > 0)"
   ]
  },
  {
   "cell_type": "markdown",
   "id": "0656256f-20ff-47a1-9304-6e34b7968f03",
   "metadata": {},
   "source": [
    "To run the Chi-Square Test, we need to convert the data into a contingency table."
   ]
  },
  {
   "cell_type": "code",
   "execution_count": 5,
   "id": "4c3811ff-5ade-447f-a9b8-490c8662e396",
   "metadata": {},
   "outputs": [
    {
     "data": {
      "text/html": [
       "<div>\n",
       "<style scoped>\n",
       "    .dataframe tbody tr th:only-of-type {\n",
       "        vertical-align: middle;\n",
       "    }\n",
       "\n",
       "    .dataframe tbody tr th {\n",
       "        vertical-align: top;\n",
       "    }\n",
       "\n",
       "    .dataframe thead th {\n",
       "        text-align: right;\n",
       "    }\n",
       "</style>\n",
       "<table border=\"1\" class=\"dataframe\">\n",
       "  <thead>\n",
       "    <tr style=\"text-align: right;\">\n",
       "      <th>dead</th>\n",
       "      <th>False</th>\n",
       "      <th>True</th>\n",
       "    </tr>\n",
       "    <tr>\n",
       "      <th>p36</th>\n",
       "      <th></th>\n",
       "      <th></th>\n",
       "    </tr>\n",
       "  </thead>\n",
       "  <tbody>\n",
       "    <tr>\n",
       "      <th>1</th>\n",
       "      <td>96618</td>\n",
       "      <td>1104</td>\n",
       "    </tr>\n",
       "    <tr>\n",
       "      <th>3</th>\n",
       "      <td>91882</td>\n",
       "      <td>536</td>\n",
       "    </tr>\n",
       "  </tbody>\n",
       "</table>\n",
       "</div>"
      ],
      "text/plain": [
       "dead  False  True \n",
       "p36               \n",
       "1     96618   1104\n",
       "3     91882    536"
      ]
     },
     "execution_count": 5,
     "metadata": {},
     "output_type": "execute_result"
    }
   ],
   "source": [
    "cont = pd.crosstab(df_hyp1['p36'], df_hyp1['dead'])\n",
    "cont"
   ]
  },
  {
   "cell_type": "markdown",
   "id": "24feba68-1901-40a3-aa57-eb62cd9c3f53",
   "metadata": {
    "scrolled": true
   },
   "source": [
    "Run the Chi-Square Test and take the p-value"
   ]
  },
  {
   "cell_type": "code",
   "execution_count": 6,
   "id": "39934295-fa05-41ed-bb89-430c53a743ce",
   "metadata": {},
   "outputs": [
    {
     "data": {
      "text/plain": [
       "2.9583564622976707e-38"
      ]
     },
     "execution_count": 6,
     "metadata": {},
     "output_type": "execute_result"
    }
   ],
   "source": [
    "chi2_test = stats.chi2_contingency(cont)\n",
    "chi2_test[1]"
   ]
  },
  {
   "cell_type": "markdown",
   "id": "e09683c3-6c07-4f19-96a3-89791b62920c",
   "metadata": {},
   "source": [
    "It can be seen, that p-value < 0.05, so we discard the null hypothesis(H0). We can conlude that on type 1 and type 3 roads, people died with different probabilities.\n",
    "Now we will compare the expected Chi-Square and the actual values."
   ]
  },
  {
   "cell_type": "code",
   "execution_count": 7,
   "id": "73e8c0f9-4672-427c-9cba-2a1dcecb5509",
   "metadata": {},
   "outputs": [
    {
     "data": {
      "text/html": [
       "<div>\n",
       "<style scoped>\n",
       "    .dataframe tbody tr th:only-of-type {\n",
       "        vertical-align: middle;\n",
       "    }\n",
       "\n",
       "    .dataframe tbody tr th {\n",
       "        vertical-align: top;\n",
       "    }\n",
       "\n",
       "    .dataframe thead th {\n",
       "        text-align: right;\n",
       "    }\n",
       "</style>\n",
       "<table border=\"1\" class=\"dataframe\">\n",
       "  <thead>\n",
       "    <tr style=\"text-align: right;\">\n",
       "      <th>dead</th>\n",
       "      <th>False</th>\n",
       "      <th>True</th>\n",
       "    </tr>\n",
       "    <tr>\n",
       "      <th>p36</th>\n",
       "      <th></th>\n",
       "      <th></th>\n",
       "    </tr>\n",
       "  </thead>\n",
       "  <tbody>\n",
       "    <tr>\n",
       "      <th>1</th>\n",
       "      <td>-261.125907</td>\n",
       "      <td>261.125907</td>\n",
       "    </tr>\n",
       "    <tr>\n",
       "      <th>3</th>\n",
       "      <td>261.125907</td>\n",
       "      <td>-261.125907</td>\n",
       "    </tr>\n",
       "  </tbody>\n",
       "</table>\n",
       "</div>"
      ],
      "text/plain": [
       "dead       False       True \n",
       "p36                         \n",
       "1    -261.125907  261.125907\n",
       "3     261.125907 -261.125907"
      ]
     },
     "execution_count": 7,
     "metadata": {},
     "output_type": "execute_result"
    }
   ],
   "source": [
    "expected = chi2_test[3]\n",
    "cont - expected"
   ]
  },
  {
   "cell_type": "markdown",
   "id": "5966fd8f-0db5-4229-8e49-030dab12ad9e",
   "metadata": {},
   "source": [
    "From the difference between the expected and actual result we can  see that accidents on the road of the 1st type caused more fatal cases."
   ]
  },
  {
   "cell_type": "markdown",
   "id": "8d835213-d818-4da2-a349-b60393838266",
   "metadata": {},
   "source": [
    "### Hypothesis 2: \n",
    "\"***Při nehodách vozidel značky Škoda je škoda na vozidle nižší než při nehodách vozidel Audi.***\"\n",
    "\n",
    "First of all save only necessary columns: vehicles('p45a') and damage to the vehicles('p14').\n",
    "\n",
    "Also according to the hypothesis we are only interested in these car brands: \"Škoda\"(39) and \"Audi\"(2)."
   ]
  },
  {
   "cell_type": "code",
   "execution_count": 21,
   "id": "be89e6da-c571-4038-8a97-24a250d2e325",
   "metadata": {},
   "outputs": [],
   "source": [
    "# df_hyp2 = df[['p45a','p53']].copy()\n",
    "skoda_dmg = df.query('p45a  == 39')['p14']\n",
    "audi_dmg = df.query('p45a  == 2')['p14']"
   ]
  },
  {
   "cell_type": "markdown",
   "id": "2d36555c-ef7c-4c9c-8451-2324960ab2ca",
   "metadata": {},
   "source": [
    "In order to determine, if the damage on the Škoda cars is lower than on the Audi cars we will calculate p-value with The Mann-Whitney U test. The Mann-Whitney U test is a nonparametric test of the null hypothesis that the distribution underlying sample x is the same as the distribution underlying sample y."
   ]
  },
  {
   "cell_type": "code",
   "execution_count": 26,
   "id": "8dca7645-7573-4002-a5db-fe975b94b19f",
   "metadata": {},
   "outputs": [
    {
     "name": "stdout",
     "output_type": "stream",
     "text": [
      "MannwhitneyuResult(statistic=893517999.0, pvalue=1.8082422042771395e-165)\n",
      "400.0\n",
      "510.0\n"
     ]
    }
   ],
   "source": [
    "res = stats.mannwhitneyu(skoda_dmg,audi_dmg)\n",
    "print(res)\n",
    "print(skoda_dmg.median())\n",
    "print(audi_dmg.median())"
   ]
  },
  {
   "cell_type": "markdown",
   "id": "82d14a60-b8a2-4409-8eea-06a6dfadb0c9",
   "metadata": {},
   "source": [
    "It can be seen, that p-value < 0.05, so we discard the null hypothesis(H0) and, knowing median values of damage for each car brand, we can conclude, that in accidents involving Škoda vehicles, the damage to the vehicle is lower than in accidents involving Audi vehicles."
   ]
  }
 ],
 "metadata": {
  "kernelspec": {
   "display_name": "env",
   "language": "python",
   "name": "env"
  },
  "language_info": {
   "codemirror_mode": {
    "name": "ipython",
    "version": 3
   },
   "file_extension": ".py",
   "mimetype": "text/x-python",
   "name": "python",
   "nbconvert_exporter": "python",
   "pygments_lexer": "ipython3",
   "version": "3.11.5"
  }
 },
 "nbformat": 4,
 "nbformat_minor": 5
}
